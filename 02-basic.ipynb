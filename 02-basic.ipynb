{
 "cells": [
  {
   "cell_type": "code",
   "execution_count": 26,
   "metadata": {},
   "outputs": [
    {
     "name": "stdout",
     "output_type": "stream",
     "text": [
      "这是一个python程序,感觉不错\n"
     ]
    }
   ],
   "source": [
    "print('这是一个python程序,感觉不错')"
   ]
  },
  {
   "cell_type": "code",
   "execution_count": 27,
   "metadata": {},
   "outputs": [],
   "source": [
    "#这是单行注释"
   ]
  },
  {
   "cell_type": "code",
   "execution_count": 28,
   "metadata": {},
   "outputs": [
    {
     "name": "stdout",
     "output_type": "stream",
     "text": [
      "初始资金:1000000\n",
      "现有资金999996.5\n"
     ]
    }
   ],
   "source": [
    "#以下是对变量的练习\n",
    "\n",
    "#数字类型\n",
    "money=1000000\n",
    "print('初始资金:'+str(money))\n",
    "money=money-3.5 \n",
    "print('现有资金'+str(money))"
   ]
  },
  {
   "cell_type": "code",
   "execution_count": 29,
   "metadata": {},
   "outputs": [
    {
     "name": "stdout",
     "output_type": "stream",
     "text": [
      "崆峒真人使用了太虚剑法\n"
     ]
    }
   ],
   "source": [
    "#字符串\n",
    "\n",
    "#字符串是一种序列\n",
    "title='崆峒真人'\n",
    "skill='太虚剑法'\n",
    "\n",
    "print(title+'使用了'+skill)"
   ]
  },
  {
   "cell_type": "code",
   "execution_count": 30,
   "metadata": {},
   "outputs": [
    {
     "name": "stdout",
     "output_type": "stream",
     "text": [
      "<class 'tuple'>\n",
      "<class 'list'>\n",
      "<class 'set'>\n",
      "<class 'dict'>\n"
     ]
    }
   ],
   "source": [
    "#其他类型\n",
    "t=False\n",
    "a=(1,2,3)\n",
    "print(type(a))\n",
    "b=[1,2,3]\n",
    "print(type(b))\n",
    "c={1,2,3}\n",
    "print(type(c))\n",
    "d={'姓名':'小明','性别':'男'}\n",
    "print(type(d))\n"
   ]
  }
 ],
 "metadata": {
  "kernelspec": {
   "display_name": "Python 3",
   "language": "python",
   "name": "python3"
  },
  "language_info": {
   "codemirror_mode": {
    "name": "ipython",
    "version": 3
   },
   "file_extension": ".py",
   "mimetype": "text/x-python",
   "name": "python",
   "nbconvert_exporter": "python",
   "pygments_lexer": "ipython3",
   "version": "3.8.10"
  },
  "orig_nbformat": 4
 },
 "nbformat": 4,
 "nbformat_minor": 2
}
