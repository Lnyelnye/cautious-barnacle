{
 "cells": [
  {
   "cell_type": "code",
   "execution_count": null,
   "metadata": {},
   "outputs": [],
   "source": [
    "#导入包\n",
    "import"
   ]
  },
  {
   "cell_type": "code",
   "execution_count": 3,
   "metadata": {},
   "outputs": [
    {
     "ename": "NameError",
     "evalue": "name '数据表' is not defined",
     "output_type": "error",
     "traceback": [
      "\u001b[1;31m---------------------------------------------------------------------------\u001b[0m",
      "\u001b[1;31mNameError\u001b[0m                                 Traceback (most recent call last)",
      "\u001b[1;32mc:\\Users\\ASUS\\cautious-barnacle\\description2.ipynb 单元格 1\u001b[0m line \u001b[0;36m2\n\u001b[0;32m      <a href='vscode-notebook-cell:/c%3A/Users/ASUS/cautious-barnacle/description2.ipynb#W0sZmlsZQ%3D%3D?line=0'>1</a>\u001b[0m \u001b[39m# dataframe 变量生成\u001b[39;00m\n\u001b[1;32m----> <a href='vscode-notebook-cell:/c%3A/Users/ASUS/cautious-barnacle/description2.ipynb#W0sZmlsZQ%3D%3D?line=1'>2</a>\u001b[0m 数据表[\u001b[39m'\u001b[39m\u001b[39m自豪感\u001b[39m\u001b[39m'\u001b[39m]\u001b[39m=\u001b[39m数据表\u001b[39m.\u001b[39m会打多少分\u001b[39m+\u001b[39m数据表\u001b[39m.\u001b[39m您觉得中国怎么样\n",
      "\u001b[1;31mNameError\u001b[0m: name '数据表' is not defined"
     ]
    }
   ],
   "source": [
    "# dataframe 变量生成\n",
    "数据表['自豪感']=数据表.会打多少分+数据表.您觉得中国怎么样"
   ]
  },
  {
   "cell_type": "code",
   "execution_count": 2,
   "metadata": {},
   "outputs": [
    {
     "ename": "NameError",
     "evalue": "name '数据表' is not defined",
     "output_type": "error",
     "traceback": [
      "\u001b[1;31m---------------------------------------------------------------------------\u001b[0m",
      "\u001b[1;31mNameError\u001b[0m                                 Traceback (most recent call last)",
      "\u001b[1;32mc:\\Users\\ASUS\\cautious-barnacle\\description2.ipynb 单元格 2\u001b[0m line \u001b[0;36m1\n\u001b[1;32m----> <a href='vscode-notebook-cell:/c%3A/Users/ASUS/cautious-barnacle/description2.ipynb#W1sZmlsZQ%3D%3D?line=0'>1</a>\u001b[0m 数据表\u001b[39m.\u001b[39m自豪感\u001b[39m.\u001b[39mdescribe\n",
      "\u001b[1;31mNameError\u001b[0m: name '数据表' is not defined"
     ]
    }
   ],
   "source": [
    "数据表.自豪感.describe"
   ]
  }
 ],
 "metadata": {
  "kernelspec": {
   "display_name": "Python 3",
   "language": "python",
   "name": "python3"
  },
  "language_info": {
   "codemirror_mode": {
    "name": "ipython",
    "version": 3
   },
   "file_extension": ".py",
   "mimetype": "text/x-python",
   "name": "python",
   "nbconvert_exporter": "python",
   "pygments_lexer": "ipython3",
   "version": "3.8.10"
  }
 },
 "nbformat": 4,
 "nbformat_minor": 2
}
