{
 "cells": [
  {
   "cell_type": "code",
   "execution_count": 12,
   "metadata": {},
   "outputs": [
    {
     "ename": "NameError",
     "evalue": "name '国家认同调查数据表' is not defined",
     "output_type": "error",
     "traceback": [
      "\u001b[1;31m---------------------------------------------------------------------------\u001b[0m",
      "\u001b[1;31mNameError\u001b[0m                                 Traceback (most recent call last)",
      "\u001b[1;32mc:\\Users\\ASUS\\cautious-barnacle\\description.ipynb 单元格 1\u001b[0m line \u001b[0;36m1\n\u001b[1;32m----> <a href='vscode-notebook-cell:/c%3A/Users/ASUS/cautious-barnacle/description.ipynb#W0sZmlsZQ%3D%3D?line=0'>1</a>\u001b[0m result\u001b[39m=\u001b[39m(国家认同调查数据表[\u001b[39m'\u001b[39m\u001b[39m年级\u001b[39m\u001b[39m'\u001b[39m]\u001b[39m.\u001b[39mvalue_count(sort\u001b[39m=\u001b[39m\u001b[39mFalse\u001b[39;00m))\n\u001b[0;32m      <a href='vscode-notebook-cell:/c%3A/Users/ASUS/cautious-barnacle/description.ipynb#W0sZmlsZQ%3D%3D?line=1'>2</a>\u001b[0m df_result\u001b[39m=\u001b[39mpd\u001b[39m.\u001b[39mDataFrame(result)\n\u001b[0;32m      <a href='vscode-notebook-cell:/c%3A/Users/ASUS/cautious-barnacle/description.ipynb#W0sZmlsZQ%3D%3D?line=2'>3</a>\u001b[0m df_result[\u001b[39m'\u001b[39m\u001b[39m累计求和\u001b[39m\u001b[39m'\u001b[39m]\u001b[39m=\u001b[39mdf_result[\u001b[39m'\u001b[39m\u001b[39mcount\u001b[39m\u001b[39m'\u001b[39m]\u001b[39m.\u001b[39mcumsum()\n",
      "\u001b[1;31mNameError\u001b[0m: name '国家认同调查数据表' is not defined"
     ]
    }
   ],
   "source": [
    "result=(国家认同调查数据表['年级'].value_count(sort=False))\n",
    "df_result=pd.DataFrame(result)\n",
    "df_result['累计求和']=df_result['count'].cumsum()\n",
    "#df_result['新变量1']=1\n",
    "#df_result['新变量2']df_result.新变量1+1\n",
    "df_result['比例']=国家认同调查数据表['年级'].value_count(normalize=True)\n",
    "df_result['累计比例']=df_result['比例']"
   ]
  },
  {
   "cell_type": "code",
   "execution_count": null,
   "metadata": {},
   "outputs": [
    {
     "ename": "NameError",
     "evalue": "name 'df_result' is not defined",
     "output_type": "error",
     "traceback": [
      "\u001b[1;31m---------------------------------------------------------------------------\u001b[0m",
      "\u001b[1;31mNameError\u001b[0m                                 Traceback (most recent call last)",
      "\u001b[1;32mc:\\Users\\ASUS\\cautious-barnacle\\description.ipynb 单元格 2\u001b[0m line \u001b[0;36m1\n\u001b[1;32m----> <a href='vscode-notebook-cell:/c%3A/Users/ASUS/cautious-barnacle/description.ipynb#W4sZmlsZQ%3D%3D?line=0'>1</a>\u001b[0m x\u001b[39m=\u001b[39mdf_result\u001b[39m.\u001b[39mindex\n\u001b[0;32m      <a href='vscode-notebook-cell:/c%3A/Users/ASUS/cautious-barnacle/description.ipynb#W4sZmlsZQ%3D%3D?line=1'>2</a>\u001b[0m y\u001b[39m=\u001b[39mdf_result[\u001b[39m'\u001b[39m\u001b[39mcount0\u001b[39m\u001b[39m'\u001b[39m]\u001b[39m.\u001b[39mvalues\n\u001b[0;32m      <a href='vscode-notebook-cell:/c%3A/Users/ASUS/cautious-barnacle/description.ipynb#W4sZmlsZQ%3D%3D?line=2'>3</a>\u001b[0m fig,ax2\u001b[39m=\u001b[39mplt\u001b[39m.\u001b[39msubplots()\n",
      "\u001b[1;31mNameError\u001b[0m: name 'df_result' is not defined"
     ]
    }
   ],
   "source": [
    "x=df_result.index\n",
    "y=df_result['count0'].values\n",
    "fig,ax2=plt.subplots()\n",
    "ax2.as_integer_ratio\n",
    "plt.show()"
   ]
  },
  {
   "cell_type": "code",
   "execution_count": null,
   "metadata": {},
   "outputs": [
    {
     "ename": "ModuleNotFoundError",
     "evalue": "No module named 'mytools'",
     "output_type": "error",
     "traceback": [
      "\u001b[1;31m---------------------------------------------------------------------------\u001b[0m",
      "\u001b[1;31mModuleNotFoundError\u001b[0m                       Traceback (most recent call last)",
      "\u001b[1;32mc:\\Users\\ASUS\\cautious-barnacle\\description.ipynb 单元格 3\u001b[0m line \u001b[0;36m1\n\u001b[1;32m----> <a href='vscode-notebook-cell:/c%3A/Users/ASUS/cautious-barnacle/description.ipynb#W5sZmlsZQ%3D%3D?line=0'>1</a>\u001b[0m \u001b[39mimport\u001b[39;00m \u001b[39mmytools\u001b[39;00m\n\u001b[0;32m      <a href='vscode-notebook-cell:/c%3A/Users/ASUS/cautious-barnacle/description.ipynb#W5sZmlsZQ%3D%3D?line=1'>2</a>\u001b[0m mytools\u001b[39m.\u001b[39m有序变量描述统计函数(国家认同调查数据表,\u001b[39m'\u001b[39m\u001b[39m年级\u001b[39m\u001b[39m'\u001b[39m)\n",
      "\u001b[1;31mModuleNotFoundError\u001b[0m: No module named 'mytools'"
     ]
    }
   ],
   "source": [
    "import mytools\n",
    "描述统计结果表mytools.有序变量描述统计函数(国家认同调查数据表,'年级')\n",
    "秒速统计结果表"
   ]
  },
  {
   "cell_type": "code",
   "execution_count": null,
   "metadata": {},
   "outputs": [],
   "source": [
    "def 绘制直方图"
   ]
  }
 ],
 "metadata": {
  "kernelspec": {
   "display_name": "Python 3",
   "language": "python",
   "name": "python3"
  },
  "language_info": {
   "codemirror_mode": {
    "name": "ipython",
    "version": 3
   },
   "file_extension": ".py",
   "mimetype": "text/x-python",
   "name": "python",
   "nbconvert_exporter": "python",
   "pygments_lexer": "ipython3",
   "version": "3.8.10"
  }
 },
 "nbformat": 4,
 "nbformat_minor": 2
}
