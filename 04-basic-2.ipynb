{
 "cells": [
  {
   "cell_type": "code",
   "execution_count": 1,
   "metadata": {},
   "outputs": [
    {
     "name": "stdout",
     "output_type": "stream",
     "text": [
      "姓名: 张三\n",
      "学号: 2018001\n",
      "Github仓库: zhangsan_repo\n",
      "---\n",
      "姓名: 李四\n",
      "学号: 2018002\n",
      "Github仓库: lisi_repo\n",
      "---\n",
      "姓名: 王五\n",
      "学号: 2018003\n",
      "Github仓库: wangwu_repo\n",
      "---\n",
      "姓名: 赵六\n",
      "学号: 2018004\n",
      "Github仓库: zhaoliu_repo\n",
      "---\n",
      "姓名: 陈七\n",
      "学号: 2018005\n",
      "Github仓库: chenqi_repo\n",
      "---\n"
     ]
    }
   ],
   "source": [
    "student_dicts = [  \n",
    "    {\"姓名\": \"张三\", \"学号\": \"2018001\", \"github仓库\": \"zhangsan_repo\"},  \n",
    "    {\"姓名\": \"李四\", \"学号\": \"2018002\", \"github仓库\": \"lisi_repo\"},  \n",
    "    {\"姓名\": \"王五\", \"学号\": \"2018003\", \"github仓库\": \"wangwu_repo\"},  \n",
    "    {\"姓名\": \"赵六\", \"学号\": \"2018004\", \"github仓库\": \"zhaoliu_repo\"},  \n",
    "    {\"姓名\": \"陈七\", \"学号\": \"2018005\", \"github仓库\": \"chenqi_repo\"}  \n",
    "]  \n",
    "  \n",
    "for dict in student_dicts:  \n",
    "    print(\"姓名:\", dict[\"姓名\"])  \n",
    "    print(\"学号:\", dict[\"学号\"])  \n",
    "    print(\"Github仓库:\", dict[\"github仓库\"])  \n",
    "    print(\"---\")\n"
   ]
  },
  {
   "cell_type": "code",
   "execution_count": null,
   "metadata": {},
   "outputs": [],
   "source": []
  }
 ],
 "metadata": {
  "kernelspec": {
   "display_name": "Python 3",
   "language": "python",
   "name": "python3"
  },
  "language_info": {
   "codemirror_mode": {
    "name": "ipython",
    "version": 3
   },
   "file_extension": ".py",
   "mimetype": "text/x-python",
   "name": "python",
   "nbconvert_exporter": "python",
   "pygments_lexer": "ipython3",
   "version": "3.8.10"
  },
  "orig_nbformat": 4
 },
 "nbformat": 4,
 "nbformat_minor": 2
}
